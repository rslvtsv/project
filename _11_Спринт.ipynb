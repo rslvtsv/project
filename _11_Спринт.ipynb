{
 "cells": [
  {
   "cell_type": "markdown",
   "metadata": {
    "id": "u98L9TgH0eMk"
   },
   "source": [
    "# Разработка A/B-тестирования и анализ результатов\n",
    "\n",
    "Вы работаете продуктовым аналитиком в компании, которая разрабатывает развлекательное приложение с функцией «бесконечной» ленты, как, например, в приложениях с короткими видео. В вашем приложении существует две модели монетизации: первая — ежемесячная платная подписка, которая позволяет пользователям смотреть ленту без рекламы, вторая — демонстрация рекламы для пользователей, которые ещё не оформили подписку.\n",
    "\n",
    "Команда разработчиков рекомендательных систем создала новый алгоритм рекомендаций, который, по их мнению, будет показывать более интересный контент для каждого пользователя. Вас, как аналитика, просят помочь рассчитать параметры A/B-теста, который позволит проверить эту гипотезу, и проанализировать его результаты."
   ]
  },
  {
   "cell_type": "markdown",
   "metadata": {
    "id": "LJBRALHs0eMf"
   },
   "source": [
    "## Описание данных\n",
    "\n",
    "Вы будете работать с тремя таблицами:\n",
    "\n",
    "- `sessions_project_history.csv` — таблица с историческими данными по сессиям пользователей на период с 2025-08-11 по 2025-09-23. Путь к файлу: `/datasets/sessions_project_history.csv`.\n",
    "\n",
    "- `sessions_project_test_part.csv` — таблица с данными за первый день проведения A/B-теста, то есть за 2025-10-14. Путь к файлу: `/datasets/sessions_project_test_part.csv`.\n",
    "\n",
    "- `sessions_project_test.csv` — таблица с данными за весь период проведения A/B-теста, то есть с 2025-10-14 по 2025-11-02. Путь к файлу: `/datasets/sessions_project_test.csv`.\n",
    "\n",
    "У этих таблиц почти совпадает структура и содержание колонок, различаются лишь периоды наблюдения.\n",
    "\n",
    "Поля таблиц `sessions_project_history.csv`, `sessions_project_test.csv`, `sessions_project_test_part.csv`:\n",
    "\n",
    "- `user_id` — идентификатор пользователя;\n",
    "\n",
    "- `session_id` — идентификатор сессии в приложении;\n",
    "\n",
    "- `session_date` — дата сессии;\n",
    "\n",
    "- `session_start_ts` — дата и время начала сессии;\n",
    "\n",
    "- `install_date` — дата установки приложения;\n",
    "\n",
    "- `session_number` — порядковый номер сессии для конкретного пользователя;\n",
    "\n",
    "- `registration_flag` — является ли пользователь зарегистрированным;\n",
    "\n",
    "- `page_counter` — количество просмотренных страниц во время сессии;\n",
    "\n",
    "- `region` — регион пользователя;\n",
    "\n",
    "- `device` — тип устройства пользователя;\n",
    "\n",
    "- `test_group` — тестовая группа (в таблице с историческими данными этого столбца нет).\n",
    "\n",
    "\n",
    "## Что нужно сделать\n",
    "Ваши задачи: рассчитать параметры теста, оценить корректность его проведения и проанализировать результаты эксперимента."
   ]
  },
  {
   "cell_type": "markdown",
   "metadata": {
    "id": "UpOucjID0eMl"
   },
   "source": [
    "### 1. Работа с историческими данными (EDA)"
   ]
  },
  {
   "cell_type": "markdown",
   "metadata": {
    "id": "8iJMtL-30eMl"
   },
   "source": [
    "#### 1.1. Загрузка исторических данных\n",
    "На первом этапе поработайте с историческими данными приложения:\n",
    "\n",
    "- Импортируйте библиотеку pandas.\n",
    "\n",
    "- Считайте и сохраните в датафрейм `sessions_history` CSV-файл с историческими данными о сессиях пользователей `sessions_project_history.csv`.\n",
    "\n",
    "Выведите на экран первые пять строк полученного датафрейма."
   ]
  },
  {
   "cell_type": "code",
   "execution_count": 1,
   "metadata": {
    "id": "6TPR2-1RPboT"
   },
   "outputs": [],
   "source": [
    "import pandas as pd\n",
    "import matplotlib.pyplot as plt\n",
    "import scipy.stats as stats\n",
    "from statsmodels.stats.proportion import proportions_ztest"
   ]
  },
  {
   "cell_type": "code",
   "execution_count": 2,
   "metadata": {},
   "outputs": [],
   "source": [
    "sessions_history = pd.read_csv('https://code.s3.yandex.net/datasets/sessions_project_history.csv')"
   ]
  },
  {
   "cell_type": "code",
   "execution_count": 3,
   "metadata": {},
   "outputs": [
    {
     "data": {
      "text/html": [
       "<div>\n",
       "<style scoped>\n",
       "    .dataframe tbody tr th:only-of-type {\n",
       "        vertical-align: middle;\n",
       "    }\n",
       "\n",
       "    .dataframe tbody tr th {\n",
       "        vertical-align: top;\n",
       "    }\n",
       "\n",
       "    .dataframe thead th {\n",
       "        text-align: right;\n",
       "    }\n",
       "</style>\n",
       "<table border=\"1\" class=\"dataframe\">\n",
       "  <thead>\n",
       "    <tr style=\"text-align: right;\">\n",
       "      <th></th>\n",
       "      <th>user_id</th>\n",
       "      <th>session_id</th>\n",
       "      <th>session_date</th>\n",
       "      <th>session_start_ts</th>\n",
       "      <th>install_date</th>\n",
       "      <th>session_number</th>\n",
       "      <th>registration_flag</th>\n",
       "      <th>page_counter</th>\n",
       "      <th>region</th>\n",
       "      <th>device</th>\n",
       "    </tr>\n",
       "  </thead>\n",
       "  <tbody>\n",
       "    <tr>\n",
       "      <th>0</th>\n",
       "      <td>E302123B7000BFE4</td>\n",
       "      <td>F9AF61A0C2023832</td>\n",
       "      <td>2025-08-15</td>\n",
       "      <td>2025-08-15 17:47:35</td>\n",
       "      <td>2025-08-15</td>\n",
       "      <td>1</td>\n",
       "      <td>0</td>\n",
       "      <td>3</td>\n",
       "      <td>CIS</td>\n",
       "      <td>iPhone</td>\n",
       "    </tr>\n",
       "    <tr>\n",
       "      <th>1</th>\n",
       "      <td>2530F72E221829FB</td>\n",
       "      <td>85003A206CBDAC6F</td>\n",
       "      <td>2025-08-15</td>\n",
       "      <td>2025-08-15 16:42:14</td>\n",
       "      <td>2025-08-15</td>\n",
       "      <td>1</td>\n",
       "      <td>0</td>\n",
       "      <td>4</td>\n",
       "      <td>MENA</td>\n",
       "      <td>Android</td>\n",
       "    </tr>\n",
       "    <tr>\n",
       "      <th>2</th>\n",
       "      <td>876E020A4FC512F5</td>\n",
       "      <td>3677423E49D72DEE</td>\n",
       "      <td>2025-08-15</td>\n",
       "      <td>2025-08-15 12:30:00</td>\n",
       "      <td>2025-08-15</td>\n",
       "      <td>1</td>\n",
       "      <td>0</td>\n",
       "      <td>4</td>\n",
       "      <td>EU</td>\n",
       "      <td>PC</td>\n",
       "    </tr>\n",
       "    <tr>\n",
       "      <th>3</th>\n",
       "      <td>2640B349E1D81584</td>\n",
       "      <td>956B45F5915CA225</td>\n",
       "      <td>2025-08-15</td>\n",
       "      <td>2025-08-15 15:31:31</td>\n",
       "      <td>2025-08-15</td>\n",
       "      <td>1</td>\n",
       "      <td>0</td>\n",
       "      <td>4</td>\n",
       "      <td>CIS</td>\n",
       "      <td>Android</td>\n",
       "    </tr>\n",
       "    <tr>\n",
       "      <th>4</th>\n",
       "      <td>94E1CBFAEF1F5EE9</td>\n",
       "      <td>83BF0DA35F9F1F40</td>\n",
       "      <td>2025-08-15</td>\n",
       "      <td>2025-08-15 21:33:53</td>\n",
       "      <td>2025-08-15</td>\n",
       "      <td>1</td>\n",
       "      <td>0</td>\n",
       "      <td>3</td>\n",
       "      <td>CIS</td>\n",
       "      <td>Android</td>\n",
       "    </tr>\n",
       "  </tbody>\n",
       "</table>\n",
       "</div>"
      ],
      "text/plain": [
       "            user_id        session_id session_date     session_start_ts  \\\n",
       "0  E302123B7000BFE4  F9AF61A0C2023832   2025-08-15  2025-08-15 17:47:35   \n",
       "1  2530F72E221829FB  85003A206CBDAC6F   2025-08-15  2025-08-15 16:42:14   \n",
       "2  876E020A4FC512F5  3677423E49D72DEE   2025-08-15  2025-08-15 12:30:00   \n",
       "3  2640B349E1D81584  956B45F5915CA225   2025-08-15  2025-08-15 15:31:31   \n",
       "4  94E1CBFAEF1F5EE9  83BF0DA35F9F1F40   2025-08-15  2025-08-15 21:33:53   \n",
       "\n",
       "  install_date  session_number  registration_flag  page_counter region  \\\n",
       "0   2025-08-15               1                  0             3    CIS   \n",
       "1   2025-08-15               1                  0             4   MENA   \n",
       "2   2025-08-15               1                  0             4     EU   \n",
       "3   2025-08-15               1                  0             4    CIS   \n",
       "4   2025-08-15               1                  0             3    CIS   \n",
       "\n",
       "    device  \n",
       "0   iPhone  \n",
       "1  Android  \n",
       "2       PC  \n",
       "3  Android  \n",
       "4  Android  "
      ]
     },
     "metadata": {},
     "output_type": "display_data"
    },
    {
     "name": "stdout",
     "output_type": "stream",
     "text": [
      "<class 'pandas.core.frame.DataFrame'>\n",
      "RangeIndex: 435924 entries, 0 to 435923\n",
      "Data columns (total 10 columns):\n",
      " #   Column             Non-Null Count   Dtype \n",
      "---  ------             --------------   ----- \n",
      " 0   user_id            435924 non-null  object\n",
      " 1   session_id         435924 non-null  object\n",
      " 2   session_date       435924 non-null  object\n",
      " 3   session_start_ts   435924 non-null  object\n",
      " 4   install_date       435924 non-null  object\n",
      " 5   session_number     435924 non-null  int64 \n",
      " 6   registration_flag  435924 non-null  int64 \n",
      " 7   page_counter       435924 non-null  int64 \n",
      " 8   region             435924 non-null  object\n",
      " 9   device             435924 non-null  object\n",
      "dtypes: int64(3), object(7)\n",
      "memory usage: 33.3+ MB\n"
     ]
    }
   ],
   "source": [
    "display(sessions_history.head())\n",
    "sessions_history.info()"
   ]
  },
  {
   "cell_type": "markdown",
   "metadata": {
    "id": "qTDoiODz0eMo"
   },
   "source": [
    "#### 1.2. Знакомство с данными\n",
    "- Для каждого уникального пользователя `user_id` рассчитайте количество уникальных сессий `session_id`.\n",
    "\n",
    "- Выведите на экран все данные из таблицы `sessions_history` для одного пользователя с наибольшим количеством сессий. Если таких пользователей несколько, выберите любого из них.\n",
    "\n",
    "- Изучите таблицу для одного пользователя, чтобы лучше понять логику формирования каждого столбца данных.\n",
    "\n"
   ]
  },
  {
   "cell_type": "code",
   "execution_count": 4,
   "metadata": {
    "id": "PWZO9vTIPbPN"
   },
   "outputs": [
    {
     "name": "stdout",
     "output_type": "stream",
     "text": [
      "user_id\n",
      "00005FB6A13A6FBE    2\n",
      "0000B15A18D77ED9    3\n",
      "0000C4E3A4A571A9    2\n",
      "000293FAF9E67A81    4\n",
      "00029C5AE889A6C3    2\n",
      "                   ..\n",
      "FFFCDE7746148710    4\n",
      "FFFDD413285E753F    3\n",
      "FFFECBA0F2578AB0    2\n",
      "FFFEDB68228B5F21    5\n",
      "FFFF4228DF580C3B    3\n",
      "Name: session_id, Length: 134039, dtype: int64\n"
     ]
    }
   ],
   "source": [
    "sessions_per_user = sessions_history.groupby('user_id')['session_id'].nunique()\n",
    "print(sessions_per_user)"
   ]
  },
  {
   "cell_type": "code",
   "execution_count": 5,
   "metadata": {},
   "outputs": [
    {
     "name": "stdout",
     "output_type": "stream",
     "text": [
      "                 user_id        session_id session_date     session_start_ts  \\\n",
      "115558  10E0DEFC1ABDBBE0  B8F0423BBFFCF5DC   2025-08-14  2025-08-14 13:57:39   \n",
      "191751  10E0DEFC1ABDBBE0  87CA2FA549473837   2025-08-15  2025-08-15 16:42:10   \n",
      "239370  10E0DEFC1ABDBBE0  4ADD8011DCDCE318   2025-08-16  2025-08-16 19:53:21   \n",
      "274629  10E0DEFC1ABDBBE0  DF0FD0E09BF1F3D7   2025-08-17  2025-08-17 15:03:43   \n",
      "302501  10E0DEFC1ABDBBE0  3C221774B4DE6885   2025-08-18  2025-08-18 17:29:14   \n",
      "325557  10E0DEFC1ABDBBE0  031BD7A67048105B   2025-08-19  2025-08-19 13:23:55   \n",
      "345336  10E0DEFC1ABDBBE0  FF4315CF4AD4B100   2025-08-20  2025-08-20 19:31:54   \n",
      "377532  10E0DEFC1ABDBBE0  4045FEA0747203B4   2025-08-22  2025-08-22 17:54:13   \n",
      "403538  10E0DEFC1ABDBBE0  344B086C421C7F37   2025-08-24  2025-08-24 14:46:13   \n",
      "414743  10E0DEFC1ABDBBE0  054F20BA371E4C9D   2025-08-25  2025-08-25 18:36:41   \n",
      "\n",
      "       install_date  session_number  registration_flag  page_counter region  \\\n",
      "115558   2025-08-14               1                  0             4    CIS   \n",
      "191751   2025-08-14               2                  0             3    CIS   \n",
      "239370   2025-08-14               3                  0             3    CIS   \n",
      "274629   2025-08-14               4                  0             1    CIS   \n",
      "302501   2025-08-14               5                  0             4    CIS   \n",
      "325557   2025-08-14               6                  0             2    CIS   \n",
      "345336   2025-08-14               7                  0             2    CIS   \n",
      "377532   2025-08-14               8                  0             2    CIS   \n",
      "403538   2025-08-14               9                  0             2    CIS   \n",
      "414743   2025-08-14              10                  0             3    CIS   \n",
      "\n",
      "         device  \n",
      "115558  Android  \n",
      "191751  Android  \n",
      "239370  Android  \n",
      "274629  Android  \n",
      "302501  Android  \n",
      "325557  Android  \n",
      "345336  Android  \n",
      "377532  Android  \n",
      "403538  Android  \n",
      "414743  Android  \n"
     ]
    }
   ],
   "source": [
    "max_sessions = sessions_per_user.max()\n",
    "\n",
    "# Найдем всех пользователей с максимальным количеством сессий\n",
    "users_with_max_sessions = sessions_per_user[sessions_per_user == max_sessions].index.tolist()\n",
    "\n",
    "# Выберем первого пользователя из списка\n",
    "selected_user = users_with_max_sessions[0]\n",
    "\n",
    "# Выведем все данные для этого пользователя\n",
    "user_data = sessions_history[sessions_history['user_id'] == selected_user]\n",
    "print(user_data)"
   ]
  },
  {
   "cell_type": "markdown",
   "metadata": {},
   "source": []
  },
  {
   "cell_type": "markdown",
   "metadata": {
    "id": "CmcGpJTP0eMq"
   },
   "source": [
    "#### 1.3. Анализ числа регистраций\n",
    "Одна из важнейших метрик продукта — число зарегистрированных пользователей. Используя исторические данные, визуализируйте, как менялось число регистраций в приложении за время его существования.\n",
    "\n",
    "- Агрегируйте исторические данные и рассчитайте число уникальных пользователей и число зарегистрированных пользователей для каждого дня наблюдения. Для простоты считайте, что у пользователя в течение дня бывает одна сессия максимум и статус регистрации в течение одного дня не может измениться.\n",
    "\n",
    "- Постройте линейные графики общего числа пользователей и общего числа зарегистрированных пользователей по дням. Отобразите их на одном графике.\n",
    "\n",
    "- Постройте отдельный линейный график доли зарегистрированных пользователей от всех пользователей по дням.\n",
    "\n",
    "- На обоих графиках должны быть заголовок, подписанные оси X и Y, сетка и легенда."
   ]
  },
  {
   "cell_type": "code",
   "execution_count": 6,
   "metadata": {
    "id": "tN_6Ml3EPatS"
   },
   "outputs": [
    {
     "data": {
      "image/png": "[encoded data removed]",
      "text/plain": [
       "<Figure size 864x432 with 1 Axes>"
      ]
     },
     "metadata": {
      "needs_background": "light"
     },
     "output_type": "display_data"
    },
    {
     "data": {
      "image/png": "[encoded data removed]",
      "text/plain": [
       "<Figure size 864x432 with 1 Axes>"
      ]
     },
     "metadata": {
      "needs_background": "light"
     },
     "output_type": "display_data"
    },
    {
     "name": "stdout",
     "output_type": "stream",
     "text": [
      "Агрегированные данные по дням:\n",
      "   session_date  total_users  registered_users  registration_rate\n",
      "0    2025-08-11         3919               169           0.043123\n",
      "1    2025-08-12         6056               336           0.055482\n",
      "2    2025-08-13         8489               464           0.054659\n",
      "3    2025-08-14        10321               625           0.060556\n",
      "4    2025-08-15        14065               840           0.059723\n",
      "5    2025-08-16        12205               916           0.075051\n",
      "6    2025-08-17        11200               833           0.074375\n",
      "7    2025-08-18        10839               860           0.079343\n",
      "8    2025-08-19        12118               831           0.068576\n",
      "9    2025-08-20        13514              1008           0.074589\n",
      "10   2025-08-21        15051              1063           0.070627\n",
      "11   2025-08-22        17563              1251           0.071229\n",
      "12   2025-08-23        16082              1253           0.077913\n",
      "13   2025-08-24        13683              1181           0.086311\n",
      "14   2025-08-25        13635              1060           0.077741\n",
      "15   2025-08-26        13289              1050           0.079013\n",
      "16   2025-08-27        14766              1076           0.072870\n",
      "17   2025-08-28        15388              1175           0.076358\n",
      "18   2025-08-29        16873              1174           0.069579\n",
      "19   2025-08-30        14891              1165           0.078235\n",
      "20   2025-08-31        13266              1105           0.083296\n",
      "21   2025-09-01        12685              1028           0.081041\n",
      "22   2025-09-02        12672              1039           0.081992\n",
      "23   2025-09-03        12777              1035           0.081005\n",
      "24   2025-09-04        13683              1007           0.073595\n",
      "25   2025-09-05        15324              1030           0.067215\n",
      "26   2025-09-06        13078              1023           0.078223\n",
      "27   2025-09-07        12367              1069           0.086440\n",
      "28   2025-09-08        11826              1009           0.085320\n",
      "29   2025-09-09        11780               980           0.083192\n",
      "30   2025-09-10        12526              1015           0.081031\n",
      "31   2025-09-11         8623               824           0.095558\n",
      "32   2025-09-12         6436               669           0.103947\n",
      "33   2025-09-13         5183               537           0.103608\n",
      "34   2025-09-14         4364               440           0.100825\n",
      "35   2025-09-15         3698               383           0.103569\n",
      "36   2025-09-16         3032               286           0.094327\n",
      "37   2025-09-17         2548               272           0.106750\n",
      "38   2025-09-18         1952               201           0.102971\n",
      "39   2025-09-19         1418               132           0.093089\n",
      "40   2025-09-20         1100               107           0.097273\n",
      "41   2025-09-21          776                87           0.112113\n",
      "42   2025-09-22          546                68           0.124542\n",
      "43   2025-09-23          317                32           0.100946\n"
     ]
    }
   ],
   "source": [
    "# Агрегируем данные по дням\n",
    "daily_stats = sessions_history.groupby('session_date').agg(\n",
    "    total_users=('user_id', 'nunique'),\n",
    "    registered_users=('registration_flag', 'sum')\n",
    ").reset_index()\n",
    "\n",
    "# Рассчитываем долю зарегистрированных пользователей\n",
    "daily_stats['registration_rate'] = daily_stats['registered_users'] / daily_stats['total_users']\n",
    "\n",
    "# Создаем график с двумя линиями\n",
    "plt.figure(figsize=(12, 6))\n",
    "plt.plot(daily_stats['session_date'], daily_stats['total_users'], label='Все пользователи', marker='o')\n",
    "plt.plot(daily_stats['session_date'], daily_stats['registered_users'], label='Зарегистрированные пользователи', marker='s')\n",
    "\n",
    "plt.title('Динамика регистраций пользователей по дням')\n",
    "plt.xlabel('Дата')\n",
    "plt.ylabel('Количество пользователей')\n",
    "plt.grid(True, alpha=0.3)\n",
    "plt.legend()\n",
    "plt.xticks(rotation=45)\n",
    "plt.tight_layout()\n",
    "plt.show()\n",
    "\n",
    "# Создаем график доли зарегистрированных пользователей\n",
    "plt.figure(figsize=(12, 6))\n",
    "plt.plot(daily_stats['session_date'], daily_stats['registration_rate'], label='Доля зарегистрированных пользователей', color='green', marker='o')\n",
    "\n",
    "plt.title('Динамика доли зарегистрированных пользователей по дням')\n",
    "plt.xlabel('Дата')\n",
    "plt.ylabel('Доля зарегистрированных пользователей')\n",
    "plt.grid(True, alpha=0.3)\n",
    "plt.legend()\n",
    "plt.xticks(rotation=45)\n",
    "plt.tight_layout()\n",
    "plt.show()\n",
    "\n",
    "# Выводим таблицу с агрегированными данными для проверки\n",
    "print(\"Агрегированные данные по дням:\")\n",
    "print(daily_stats)"
   ]
  },
  {
   "cell_type": "markdown",
   "metadata": {},
   "source": [
    "По первому графику видно, что большая часть пользователей сидит в приложении, будучи не зарегистрированными. Однако второй график показывает положительную динамику по количеству зарегистрированных пользователей."
   ]
  },
  {
   "cell_type": "markdown",
   "metadata": {
    "id": "UR7D7RhF0eMr"
   },
   "source": [
    "#### 1.4. Анализ числа просмотренных страниц\n",
    "Другая важная метрика продукта — число просмотренных страниц в приложении. Чем больше страниц просмотрено, тем сильнее пользователь увлечён контентом, а значит, выше шансы, что он зарегистрируется и оплатит подписку.\n",
    "\n",
    "- Найдите количество сессий для каждого значения количества просмотренных страниц. Например: одну страницу просмотрели в 29 160 сессиях, две страницы — в 105 536 сессиях и так далее.\n",
    "\n",
    "- Постройте столбчатую диаграмму, где по оси X будет число просмотренных страниц, по оси Y — количество сессий.\n",
    "\n",
    "- На диаграмме должны быть заголовок, подписанные оси X и Y."
   ]
  },
  {
   "cell_type": "code",
   "execution_count": 7,
   "metadata": {
    "id": "cb6hPlVzPaSf"
   },
   "outputs": [
    {
     "data": {
      "image/png": "[encoded data removed]",
      "text/plain": [
       "<Figure size 864x432 with 1 Axes>"
      ]
     },
     "metadata": {
      "needs_background": "light"
     },
     "output_type": "display_data"
    },
    {
     "name": "stdout",
     "output_type": "stream",
     "text": [
      "Количество сессий по числу просмотренных страниц:\n",
      "1     29160\n",
      "2    105536\n",
      "3    166690\n",
      "4    105569\n",
      "5     26288\n",
      "6      2589\n",
      "7        92\n",
      "Name: page_counter, dtype: int64\n"
     ]
    }
   ],
   "source": [
    "page_sessions = sessions_history['page_counter'].value_counts().sort_index()\n",
    "\n",
    "# Строим столбчатую диаграмму\n",
    "plt.figure(figsize=(12, 6))\n",
    "plt.bar(page_sessions.index, page_sessions.values)\n",
    "\n",
    "# Добавляем заголовок и подписи осей\n",
    "plt.title('Распределение сессий по количеству просмотренных страниц')\n",
    "plt.xlabel('Количество просмотренных страниц')\n",
    "plt.ylabel('Количество сессий')\n",
    "\n",
    "# Добавляем сетку для удобства чтения\n",
    "plt.grid(True, alpha=0.3, axis='y')\n",
    "\n",
    "# Показываем график\n",
    "plt.show()\n",
    "\n",
    "# Выводим таблицу с данными для проверки\n",
    "print(\"Количество сессий по числу просмотренных страниц:\")\n",
    "print(page_sessions)"
   ]
  },
  {
   "cell_type": "markdown",
   "metadata": {},
   "source": [
    "Самое популярное количество просмотренных страниц - 3."
   ]
  },
  {
   "cell_type": "markdown",
   "metadata": {
    "id": "xDltSpVP0eMr"
   },
   "source": [
    "#### 1.5. Доля пользователей, просмотревших более четырёх страниц\n",
    "Продуктовая команда продукта считает, что сессии, в рамках которых пользователь просмотрел 4 и более страниц, говорят об удовлетворённости контентом и алгоритмами рекомендаций. Этот показатель является важной прокси-метрикой для продукта.\n",
    "\n",
    "- В датафрейме `sessions_history` создайте дополнительный столбец `good_session`. В него войдёт значение `1`, если за одну сессию было просмотрено 4 и более страниц, и значение `0`, если было просмотрено меньше.\n",
    "\n",
    "- Постройте график со средним значением доли успешных сессий от всех сессий по дням за весь период наблюдения."
   ]
  },
  {
   "cell_type": "code",
   "execution_count": 8,
   "metadata": {
    "id": "iygaPfixPYMW"
   },
   "outputs": [
    {
     "data": {
      "image/png": "[encoded data removed]",
      "text/plain": [
       "<Figure size 864x432 with 1 Axes>"
      ]
     },
     "metadata": {
      "needs_background": "light"
     },
     "output_type": "display_data"
    },
    {
     "name": "stdout",
     "output_type": "stream",
     "text": [
      "Первые 10 строк данных с новым столбцом:\n",
      "         session_id  page_counter  good_session\n",
      "0  F9AF61A0C2023832             3             0\n",
      "1  85003A206CBDAC6F             4             1\n",
      "2  3677423E49D72DEE             4             1\n",
      "3  956B45F5915CA225             4             1\n",
      "4  83BF0DA35F9F1F40             3             0\n",
      "5  3AC48B25BA586DB3             3             0\n",
      "6  F1A345355A8981FD             3             0\n",
      "7  8EC5B17CA1ED5E10             5             1\n",
      "8  E99DF62E41ECAB10             4             1\n",
      "9  3F870A71E087CFE6             5             1\n",
      "\n",
      "Доля успешных сессий по дням:\n",
      "  session_date  good_session\n",
      "0   2025-08-11      0.312835\n",
      "1   2025-08-12      0.302015\n",
      "2   2025-08-13      0.306750\n",
      "3   2025-08-14      0.316055\n",
      "4   2025-08-15      0.304941\n"
     ]
    }
   ],
   "source": [
    "# Создаем столбец good_session\n",
    "sessions_history['good_session'] = (sessions_history['page_counter'] >= 4).astype(int)\n",
    "\n",
    "# Агрегируем данные по дням - считаем долю успешных сессий\n",
    "daily_good_sessions = sessions_history.groupby('session_date')['good_session'].mean().reset_index()\n",
    "\n",
    "# Строим график\n",
    "plt.figure(figsize=(12, 6))\n",
    "plt.plot(daily_good_sessions['session_date'], daily_good_sessions['good_session'], marker='o', linewidth=2)\n",
    "\n",
    "# Добавляем заголовок и подписи осей\n",
    "plt.title('Динамика доли успешных сессий (4+ страниц) по дням')\n",
    "plt.xlabel('Дата')\n",
    "plt.ylabel('Доля успешных сессий')\n",
    "plt.grid(True, alpha=0.3)\n",
    "\n",
    "# Поворачиваем подписи дат для лучшей читаемости\n",
    "plt.xticks(rotation=45)\n",
    "plt.show()\n",
    "\n",
    "# Выводим первые строки для проверки\n",
    "print(\"Первые 10 строк данных с новым столбцом:\")\n",
    "print(sessions_history[['session_id', 'page_counter', 'good_session']].head(10))\n",
    "\n",
    "print(\"\\nДоля успешных сессий по дням:\")\n",
    "print(daily_good_sessions.head())"
   ]
  },
  {
   "cell_type": "markdown",
   "metadata": {},
   "source": [
    "Доля удачных сессий держится примерно на одном уровне - 30%."
   ]
  },
  {
   "cell_type": "markdown",
   "metadata": {
    "id": "21JcG77Y0eMt"
   },
   "source": [
    "### 2. Подготовка к тесту\n",
    "При планировании теста необходимо проделать несколько важных шагов:\n",
    "\n",
    "- Сформулировать нулевую и альтернативную гипотезы\n",
    "\n",
    "- Определиться с целевой метрикой.\n",
    "\n",
    "- Рассчитать необходимый размер выборки.\n",
    "\n",
    "- Исходя из текущих значений трафика рассчитать необходимую длительность проведения теста."
   ]
  },
  {
   "cell_type": "markdown",
   "metadata": {
    "id": "kXdcwkjf859k"
   },
   "source": [
    "#### 2.1 Формулировка нулевой и альтернативной гипотез\n",
    "\n",
    "Перед тем как проводить А/B-тест, необходимо сформулировать нулевую и альтернативную гипотезы. Напомним изначальное условие: команда разработчиков рекомендательных систем создала новый алгоритм, который, по их мнению, будет показывать более интересный контент для каждого пользователя.\n",
    "\n",
    "О какой метрике идёт речь? Как она будет учтена в формулировке гипотез?"
   ]
  },
  {
   "cell_type": "markdown",
   "metadata": {
    "id": "RiKI8eT49h3F"
   },
   "source": [
    "Метрика: Доля успешных сессий (просмотр 4+ страниц) - good_session\n",
    "\n",
    "Формулировка гипотез:\n",
    "\n",
    "Нулевая гипотеза (H₀):\n",
    "Новый алгоритм рекомендаций не влияет на долю успешных сессий.\n",
    "Доля сессий с просмотром 4+ страниц в тестовой группе (новый алгоритм) равна или меньше доли в контрольной группе (старый алгоритм).\n",
    "\n",
    "H0: p_a ≤ p_b\n",
    "\n",
    "Альтернативная гипотеза (H₁):\n",
    "Новый алгоритм рекомендаций увеличивает долю успешных сессий.\n",
    "Доля сессий с просмотром 4+ страниц в тестовой группе (новый алгоритм) больше доли в контрольной группе (старый алгоритм).\n",
    "\n",
    "H1: p_a > p_b\n",
    "\n",
    "Обоснование:\n",
    "Поскольку команда утверждает, что новый алгоритм будет показывать \"более интересный контент\", это должно привести к увеличению вовлеченности пользователей, что проявляется в росте доли сессий с глубоким просмотром контента (4+ страниц)."
   ]
  },
  {
   "cell_type": "markdown",
   "metadata": {
    "id": "uzaeln270eMt"
   },
   "source": [
    "#### 2.2. Расчёт размера выборки\n",
    "В рамках курса вы уже рассчитывали размеры выборки и  использовали для этого онлайн-калькулятор. В этом задании предлагаем воспользоваться готовым кодом и рассчитать необходимое для вашего эксперимента количество пользователей.\n",
    "\n",
    "Для этого установите в коде ниже следующие параметры:\n",
    "\n",
    "- Уровень значимости — 0.05.\n",
    "\n",
    "- Вероятность ошибки второго рода — 0.2.\n",
    "\n",
    "- Мощность теста.\n",
    "\n",
    "- Минимальный детектируемый эффект, или MDE, — 3%. Обратите внимание, что здесь нужно указать десятичную дробь, а не процент.\n",
    "\n",
    "При расчёте размера выборки используйте метод `solve_power()` из класса `power.NormalIndPower` модуля `statsmodels.stats`.\n",
    "\n",
    "Запустите ячейку и изучите полученное значение."
   ]
  },
  {
   "cell_type": "code",
   "execution_count": 9,
   "metadata": {
    "id": "zSxJyPGPNdaI"
   },
   "outputs": [
    {
     "name": "stdout",
     "output_type": "stream",
     "text": [
      "Необходимый размер выборки для каждой группы: 41040\n"
     ]
    }
   ],
   "source": [
    "from statsmodels.stats.power import NormalIndPower\n",
    "from statsmodels.stats.proportion import proportion_effectsize\n",
    "\n",
    "# Задаём параметры\n",
    "alpha = 0.05  # Уровень значимости\n",
    "beta = 0.2  # Ошибка второго рода, часто 1 - мощность\n",
    "power = 0.8  # Мощность теста\n",
    "p1 = 0.3 # Базовый уровень доли\n",
    "mde = 0.03 * p1  # Минимальный детектируемый эффект\n",
    "effect_size = proportion_effectsize(p1, p1 + mde)\n",
    "\n",
    "# Инициализируем класс NormalIndPower\n",
    "power_analysis = NormalIndPower()\n",
    "\n",
    "# Рассчитываем размер выборки\n",
    "sample_size = power_analysis.solve_power(\n",
    "    effect_size = effect_size,\n",
    "    power = power,\n",
    "    alpha = alpha,\n",
    "    ratio = 1 # Равномерное распределение выборок\n",
    ")\n",
    "\n",
    "print(f\"Необходимый размер выборки для каждой группы: {int(sample_size)}\")"
   ]
  },
  {
   "cell_type": "markdown",
   "metadata": {
    "id": "qLEv4RoV0eMu"
   },
   "source": [
    "#### 2.3. Расчёт длительности A/B-теста\n",
    "\n",
    "Используйте данные о количестве пользователей в каждой выборке и среднем количестве пользователей приложения. Рассчитайте длительность теста, разделив одно на другое.\n",
    "\n",
    "- Рассчитайте среднее количество уникальных пользователей приложения в день.\n",
    "\n",
    "- Определите длительность теста исходя из рассчитанного значения размера выборок и среднего дневного трафика приложения. Количество дней округлите в большую сторону."
   ]
  },
  {
   "cell_type": "code",
   "execution_count": 10,
   "metadata": {
    "id": "KZDRbryDOGHa"
   },
   "outputs": [
    {
     "name": "stdout",
     "output_type": "stream",
     "text": [
      "Рассчитанная длительность A/B-теста при текущем уровне трафика в 9907 пользователей в день составит 9 дней\n"
     ]
    }
   ],
   "source": [
    "from math import ceil\n",
    "\n",
    "sample_size = 41040\n",
    "\n",
    "# Среднее количество пользователей приложения в день по историческим данным\n",
    "avg_daily_users = sessions_history.groupby('session_date')['user_id'].nunique().mean()\n",
    "\n",
    "# Рассчитываем длительность теста в днях как отношение размера выборки к среднему числу пользователей\n",
    "test_duration = ceil((sample_size * 2) / avg_daily_users)\n",
    "\n",
    "print(f\"Рассчитанная длительность A/B-теста при текущем уровне трафика в {avg_daily_users:.0f} пользователей в день составит {test_duration} дней\")"
   ]
  },
  {
   "cell_type": "markdown",
   "metadata": {
    "id": "ZuvtAdha0eMv"
   },
   "source": [
    "### 3. Мониторинг А/В-теста"
   ]
  },
  {
   "cell_type": "markdown",
   "metadata": {
    "id": "jq5sE3Ya0eMv"
   },
   "source": [
    "#### 3.1. Проверка распределения пользователей\n",
    "\n",
    "A/B-тест успешно запущен, и уже доступны данные за первые три дня. На этом этапе нужно убедиться, что всё идёт хорошо: пользователи разделены правильным образом, а интересующие вас метрики корректно считаются.\n",
    "\n",
    "- Считайте и сохраните в датафрейм `sessions_test_part` CSV-файл с историческими данными о сессиях пользователей `sessions_project_test_part.csv`.\n",
    "\n",
    "- Рассчитайте количество уникальных пользователей в каждой из экспериментальных групп для одного дня наблюдения.\n",
    "\n",
    "- Рассчитайте и выведите на экран процентную разницу в количестве пользователей в группах A и B. Постройте любую удобную визуализацию, на которой будет видно возможное различие двух групп.\n",
    "\n",
    "Для расчёта процентной разницы воспользуйтесь формулой:\n",
    "$$P = 100 \\cdot  \\frac{|A − B|}{A}$$"
   ]
  },
  {
   "cell_type": "code",
   "execution_count": 11,
   "metadata": {
    "id": "G1bqIzDJOUiz"
   },
   "outputs": [
    {
     "data": {
      "text/html": [
       "<div>\n",
       "<style scoped>\n",
       "    .dataframe tbody tr th:only-of-type {\n",
       "        vertical-align: middle;\n",
       "    }\n",
       "\n",
       "    .dataframe tbody tr th {\n",
       "        vertical-align: top;\n",
       "    }\n",
       "\n",
       "    .dataframe thead th {\n",
       "        text-align: right;\n",
       "    }\n",
       "</style>\n",
       "<table border=\"1\" class=\"dataframe\">\n",
       "  <thead>\n",
       "    <tr style=\"text-align: right;\">\n",
       "      <th></th>\n",
       "      <th>user_id</th>\n",
       "      <th>session_id</th>\n",
       "      <th>session_date</th>\n",
       "      <th>session_start_ts</th>\n",
       "      <th>install_date</th>\n",
       "      <th>session_number</th>\n",
       "      <th>registration_flag</th>\n",
       "      <th>page_counter</th>\n",
       "      <th>region</th>\n",
       "      <th>device</th>\n",
       "      <th>test_group</th>\n",
       "    </tr>\n",
       "  </thead>\n",
       "  <tbody>\n",
       "    <tr>\n",
       "      <th>0</th>\n",
       "      <td>3404844B53442747</td>\n",
       "      <td>B4901323BD537E45</td>\n",
       "      <td>2025-10-14</td>\n",
       "      <td>2025-10-14 19:28:49</td>\n",
       "      <td>2025-10-14</td>\n",
       "      <td>1</td>\n",
       "      <td>0</td>\n",
       "      <td>3</td>\n",
       "      <td>CIS</td>\n",
       "      <td>Android</td>\n",
       "      <td>B</td>\n",
       "    </tr>\n",
       "    <tr>\n",
       "      <th>1</th>\n",
       "      <td>3A2BF4D364E62D89</td>\n",
       "      <td>216FC619308F8788</td>\n",
       "      <td>2025-10-14</td>\n",
       "      <td>2025-10-14 21:11:04</td>\n",
       "      <td>2025-10-14</td>\n",
       "      <td>1</td>\n",
       "      <td>0</td>\n",
       "      <td>3</td>\n",
       "      <td>MENA</td>\n",
       "      <td>iPhone</td>\n",
       "      <td>A</td>\n",
       "    </tr>\n",
       "    <tr>\n",
       "      <th>2</th>\n",
       "      <td>79CDAE11E32B1597</td>\n",
       "      <td>EDFCE4AC1A504074</td>\n",
       "      <td>2025-10-14</td>\n",
       "      <td>2025-10-14 21:44:03</td>\n",
       "      <td>2025-10-14</td>\n",
       "      <td>1</td>\n",
       "      <td>0</td>\n",
       "      <td>3</td>\n",
       "      <td>CIS</td>\n",
       "      <td>iPhone</td>\n",
       "      <td>A</td>\n",
       "    </tr>\n",
       "    <tr>\n",
       "      <th>3</th>\n",
       "      <td>D6AF8D78297A931F</td>\n",
       "      <td>CF0AC0EEDE92C690</td>\n",
       "      <td>2025-10-14</td>\n",
       "      <td>2025-10-14 19:07:55</td>\n",
       "      <td>2025-10-14</td>\n",
       "      <td>1</td>\n",
       "      <td>0</td>\n",
       "      <td>4</td>\n",
       "      <td>CIS</td>\n",
       "      <td>PC</td>\n",
       "      <td>A</td>\n",
       "    </tr>\n",
       "    <tr>\n",
       "      <th>4</th>\n",
       "      <td>37E0CE723AE568E0</td>\n",
       "      <td>2E6ED45E8C86C4E9</td>\n",
       "      <td>2025-10-14</td>\n",
       "      <td>2025-10-14 15:39:44</td>\n",
       "      <td>2025-10-14</td>\n",
       "      <td>1</td>\n",
       "      <td>0</td>\n",
       "      <td>3</td>\n",
       "      <td>CIS</td>\n",
       "      <td>Mac</td>\n",
       "      <td>B</td>\n",
       "    </tr>\n",
       "  </tbody>\n",
       "</table>\n",
       "</div>"
      ],
      "text/plain": [
       "            user_id        session_id session_date     session_start_ts  \\\n",
       "0  3404844B53442747  B4901323BD537E45   2025-10-14  2025-10-14 19:28:49   \n",
       "1  3A2BF4D364E62D89  216FC619308F8788   2025-10-14  2025-10-14 21:11:04   \n",
       "2  79CDAE11E32B1597  EDFCE4AC1A504074   2025-10-14  2025-10-14 21:44:03   \n",
       "3  D6AF8D78297A931F  CF0AC0EEDE92C690   2025-10-14  2025-10-14 19:07:55   \n",
       "4  37E0CE723AE568E0  2E6ED45E8C86C4E9   2025-10-14  2025-10-14 15:39:44   \n",
       "\n",
       "  install_date  session_number  registration_flag  page_counter region  \\\n",
       "0   2025-10-14               1                  0             3    CIS   \n",
       "1   2025-10-14               1                  0             3   MENA   \n",
       "2   2025-10-14               1                  0             3    CIS   \n",
       "3   2025-10-14               1                  0             4    CIS   \n",
       "4   2025-10-14               1                  0             3    CIS   \n",
       "\n",
       "    device test_group  \n",
       "0  Android          B  \n",
       "1   iPhone          A  \n",
       "2   iPhone          A  \n",
       "3       PC          A  \n",
       "4      Mac          B  "
      ]
     },
     "metadata": {},
     "output_type": "display_data"
    },
    {
     "name": "stdout",
     "output_type": "stream",
     "text": [
      "<class 'pandas.core.frame.DataFrame'>\n",
      "RangeIndex: 3130 entries, 0 to 3129\n",
      "Data columns (total 11 columns):\n",
      " #   Column             Non-Null Count  Dtype \n",
      "---  ------             --------------  ----- \n",
      " 0   user_id            3130 non-null   object\n",
      " 1   session_id         3130 non-null   object\n",
      " 2   session_date       3130 non-null   object\n",
      " 3   session_start_ts   3130 non-null   object\n",
      " 4   install_date       3130 non-null   object\n",
      " 5   session_number     3130 non-null   int64 \n",
      " 6   registration_flag  3130 non-null   int64 \n",
      " 7   page_counter       3130 non-null   int64 \n",
      " 8   region             3130 non-null   object\n",
      " 9   device             3130 non-null   object\n",
      " 10  test_group         3130 non-null   object\n",
      "dtypes: int64(3), object(8)\n",
      "memory usage: 269.1+ KB\n"
     ]
    }
   ],
   "source": [
    "sessions_test_part = pd.read_csv('https://code.s3.yandex.net/datasets/sessions_project_test_part.csv')\n",
    "display(sessions_test_part.head())\n",
    "sessions_test_part.info()"
   ]
  },
  {
   "cell_type": "code",
   "execution_count": 12,
   "metadata": {},
   "outputs": [
    {
     "name": "stdout",
     "output_type": "stream",
     "text": [
      "Количество уникальных пользователей по группам:\n",
      "test_group\n",
      "A    1477\n",
      "B    1466\n",
      "Name: user_id, dtype: int64\n",
      "\n",
      "Процентная разница между группой B и группой A: -0.74%\n"
     ]
    },
    {
     "data": {
      "image/png": "[encoded data removed]",
      "text/plain": [
       "<Figure size 576x432 with 2 Axes>"
      ]
     },
     "metadata": {
      "needs_background": "light"
     },
     "output_type": "display_data"
    }
   ],
   "source": [
    "# Количество уникальных пользователей в каждой группе за день\n",
    "users_per_group = sessions_test_part.groupby('test_group')['user_id'].nunique()\n",
    "\n",
    "print(\"Количество уникальных пользователей по группам:\")\n",
    "print(users_per_group)\n",
    "\n",
    "# Расчет процентной разницы\n",
    "users_a, users_b = users_per_group['A'], users_per_group['B']\n",
    "\n",
    "\n",
    "if users_a > 0:\n",
    "    percentage_difference = ((users_b - users_a) / users_a) * 100\n",
    "else:\n",
    "    percentage_difference = 0\n",
    "\n",
    "print(f\"\\nПроцентная разница между группой B и группой A: {percentage_difference:.2f}%\")\n",
    "\n",
    "# Визуализация\n",
    "plt.figure(figsize=(8, 6))\n",
    "\n",
    "# Столбчатая диаграмма\n",
    "plt.subplot(1, 2, 1)\n",
    "plt.bar(users_per_group.index, users_per_group.values, color=['blue', 'orange'])\n",
    "plt.title('Количество пользователей по группам')\n",
    "plt.xlabel('Группа')\n",
    "plt.ylabel('Количество пользователей')\n",
    "\n",
    "# Круговая диаграмма\n",
    "plt.subplot(1, 2, 2)\n",
    "plt.pie(users_per_group.values, labels=users_per_group.index, autopct='%1.1f%%', colors=['blue', 'orange'])\n",
    "plt.title('Распределение пользователей по группам')\n",
    "\n",
    "plt.tight_layout()\n",
    "plt.show()"
   ]
  },
  {
   "cell_type": "markdown",
   "metadata": {},
   "source": [
    "Пользователи разделены практически поровну."
   ]
  },
  {
   "cell_type": "markdown",
   "metadata": {
    "id": "sgpNY5bv0eM0"
   },
   "source": [
    "#### 3.2. Проверка пересечений пользователей\n",
    "Помимо проверки равенства количества пользователей в группах, полезно убедиться в том, что группы независимы. Для этого нужно убедиться, что никто из пользователей случайно не попал в обе группы одновременно.\n",
    "\n",
    "- Рассчитайте количество пользователей, которые встречаются одновременно в группах A и B, или убедитесь, что таких нет."
   ]
  },
  {
   "cell_type": "code",
   "execution_count": 13,
   "metadata": {
    "id": "E72ozN9FOX1u"
   },
   "outputs": [
    {
     "name": "stdout",
     "output_type": "stream",
     "text": [
      "Количество пользователей в обеих группах: 0\n",
      "Группы независимы - пересечений нет\n"
     ]
    }
   ],
   "source": [
    "# Группируем по пользователям и считаем количество уникальных групп\n",
    "user_groups = sessions_test_part.groupby('user_id')['test_group'].nunique()\n",
    "\n",
    "# Находим пользователей, которые были более чем в одной группе\n",
    "overlapping_users = user_groups[user_groups > 1]\n",
    "\n",
    "print(f\"Количество пользователей в обеих группах: {len(overlapping_users)}\")\n",
    "\n",
    "if len(overlapping_users) == 0:\n",
    "    print(\"Группы независимы - пересечений нет\")\n",
    "else:\n",
    "    print(\"Обнаружены пользователи в обеих группах\")\n",
    "    print(overlapping_users.index.tolist())"
   ]
  },
  {
   "cell_type": "markdown",
   "metadata": {
    "id": "6RvkNLrg0eM1"
   },
   "source": [
    "#### 3.3. Равномерность разделения пользователей по устройствам\n",
    "Полезно также убедиться в том, что пользователи равномерно распределены по всем доступным категориальным переменным — типам устройств и регионам.\n",
    "\n",
    "Постройте две диаграммы:\n",
    "\n",
    "- доля каждого типа устройства для пользователей из группы A,\n",
    "\n",
    "- доля каждого типа устройства для пользователей из группы B.\n",
    "\n",
    "Постарайтесь добавить на диаграммы все необходимые подписи, пояснения и заголовки, которые позволят сделать вывод о том, совпадает ли распределение устройств в группах A и B.\n"
   ]
  },
  {
   "cell_type": "code",
   "execution_count": 14,
   "metadata": {
    "id": "x_IP6PUNPWHC"
   },
   "outputs": [
    {
     "data": {
      "image/png": "[encoded data removed]",
      "text/plain": [
       "<Figure size 864x360 with 2 Axes>"
      ]
     },
     "metadata": {},
     "output_type": "display_data"
    }
   ],
   "source": [
    "# Создаем подграфики\n",
    "fig, (ax1, ax2) = plt.subplots(1, 2, figsize=(12, 5))\n",
    "\n",
    "# Группа A\n",
    "device_counts_a = sessions_test_part[sessions_test_part['test_group'] == 'A']['device'].value_counts()\n",
    "ax1.pie(device_counts_a.values, labels=device_counts_a.index, autopct='%1.1f%%')\n",
    "ax1.set_title('Распределение устройств в группе A', fontsize=14)\n",
    "\n",
    "# Группа B\n",
    "device_counts_b = sessions_test_part[sessions_test_part['test_group'] == 'B']['device'].value_counts()\n",
    "ax2.pie(device_counts_b.values, labels=device_counts_b.index, autopct='%1.1f%%')\n",
    "ax2.set_title('Распределение устройств в группе B', fontsize=14)\n",
    "\n",
    "plt.tight_layout()\n",
    "plt.show()"
   ]
  },
  {
   "cell_type": "markdown",
   "metadata": {
    "id": "gAgmP6vo0eM1"
   },
   "source": [
    "#### 3.4. Равномерность распределения пользователей по регионам\n",
    "Теперь убедитесь, что пользователи равномерно распределены по регионам.\n",
    "\n",
    "Постройте две диаграммы:\n",
    "\n",
    "- доля каждого региона для пользователей из группы A,\n",
    "\n",
    "- доля каждого региона для пользователей из группы B.\n",
    "\n",
    "Постарайтесь добавить на диаграммы все необходимые подписи, пояснения и заголовки, которые позволят сделать вывод о том, совпадает ли распределение регионов в группах A и B. Постарайтесь использовать другой тип диаграммы, не тот, что в прошлом задании.\n"
   ]
  },
  {
   "cell_type": "code",
   "execution_count": 15,
   "metadata": {
    "id": "3hAq-FG4OdYM"
   },
   "outputs": [
    {
     "data": {
      "image/png": "[encoded data removed]",
      "text/plain": [
       "<Figure size 864x360 with 2 Axes>"
      ]
     },
     "metadata": {},
     "output_type": "display_data"
    }
   ],
   "source": [
    "fig, (ax3, ax4) = plt.subplots(1, 2, figsize=(12, 5))\n",
    "\n",
    "# Регионы - группа A\n",
    "region_counts_a = sessions_test_part[sessions_test_part['test_group'] == 'A']['region'].value_counts()\n",
    "ax3.pie(region_counts_a.values, labels=region_counts_a.index, autopct='%1.1f%%')\n",
    "ax3.set_title('Регионы в группе A', fontsize=14)\n",
    "\n",
    "# Регионы - группа B\n",
    "region_counts_b = sessions_test_part[sessions_test_part['test_group'] == 'B']['region'].value_counts()\n",
    "ax4.pie(region_counts_b.values, labels=region_counts_b.index, autopct='%1.1f%%')\n",
    "ax4.set_title('Регионы в группе B', fontsize=14)\n",
    "\n",
    "plt.tight_layout()\n",
    "plt.show()"
   ]
  },
  {
   "cell_type": "markdown",
   "metadata": {
    "id": "X2WSZ-sDrSUi"
   },
   "source": [
    "#### 3.5. Вывод после проверки A/B-теста\n",
    "\n",
    "На основе проведённого анализа A/B-теста сформулируйте и запишите свои выводы. В выводе обязательно укажите:\n",
    "\n",
    "- Было ли обнаружено различие в количестве пользователей в двух группах.\n",
    "\n",
    "- Являются ли выборки независимыми. Было ли обнаружено пересечение пользователей из тестовой и контрольной групп.\n",
    "\n",
    "- Сохраняется ли равномерное распределение пользователей тестовой и контрольной групп по категориальным переменным: устройствам и регионам.\n",
    "\n",
    "Сделайте заключение: корректно ли проходит A/B-тест, или наблюдаются какие-либо нарушения."
   ]
  },
  {
   "cell_type": "markdown",
   "metadata": {
    "id": "dDELHlAcOi8d"
   },
   "source": [
    "Различие в количестве пользователей по группам есть, но оно минимально - всего 11 человек. На тест эта разница никак не повляет. Выборки являются независимыми, пересечение пользователей не обнаружено.  По графикам видно, что ользователи равномерно распределены по всем доступным категориальным переменным — типам устройств и регионам. Тест проходит корректно, нарушения не наблюдаются. \n"
   ]
  },
  {
   "cell_type": "markdown",
   "metadata": {
    "id": "nudRr_BQ0eM2"
   },
   "source": [
    "### 4. Проверка результатов A/B-теста\n",
    "\n",
    "A/B-тест завершён, и у вас есть результаты за все дни проведения эксперимента. Необходимо убедиться в корректности теста и верно интерпретировать результаты."
   ]
  },
  {
   "cell_type": "markdown",
   "metadata": {
    "id": "JVve-YBB0eM2"
   },
   "source": [
    "#### 4.1. Получение результатов теста и подсчёт основной метрики\n",
    "\n",
    "- Считайте и сохраните в датафрейм `sessions_test` CSV-файл с историческими данными о сессиях пользователей `sessions_project_test.csv`.\n",
    "\n",
    "- В датафрейме `sessions_test` создайте дополнительный столбец `good_session`. В него войдёт значение `1`, если за одну сессию было просмотрено 4 и более страниц, и значение `0`, если просмотрено меньше."
   ]
  },
  {
   "cell_type": "code",
   "execution_count": 16,
   "metadata": {
    "id": "EqRlwMtKPTir"
   },
   "outputs": [
    {
     "data": {
      "text/html": [
       "<div>\n",
       "<style scoped>\n",
       "    .dataframe tbody tr th:only-of-type {\n",
       "        vertical-align: middle;\n",
       "    }\n",
       "\n",
       "    .dataframe tbody tr th {\n",
       "        vertical-align: top;\n",
       "    }\n",
       "\n",
       "    .dataframe thead th {\n",
       "        text-align: right;\n",
       "    }\n",
       "</style>\n",
       "<table border=\"1\" class=\"dataframe\">\n",
       "  <thead>\n",
       "    <tr style=\"text-align: right;\">\n",
       "      <th></th>\n",
       "      <th>user_id</th>\n",
       "      <th>session_id</th>\n",
       "      <th>session_date</th>\n",
       "      <th>session_start_ts</th>\n",
       "      <th>install_date</th>\n",
       "      <th>session_number</th>\n",
       "      <th>registration_flag</th>\n",
       "      <th>page_counter</th>\n",
       "      <th>region</th>\n",
       "      <th>device</th>\n",
       "      <th>test_group</th>\n",
       "    </tr>\n",
       "  </thead>\n",
       "  <tbody>\n",
       "    <tr>\n",
       "      <th>0</th>\n",
       "      <td>3404844B53442747</td>\n",
       "      <td>B4901323BD537E45</td>\n",
       "      <td>2025-10-14</td>\n",
       "      <td>2025-10-14 19:28:49</td>\n",
       "      <td>2025-10-14</td>\n",
       "      <td>1</td>\n",
       "      <td>0</td>\n",
       "      <td>3</td>\n",
       "      <td>CIS</td>\n",
       "      <td>Android</td>\n",
       "      <td>B</td>\n",
       "    </tr>\n",
       "    <tr>\n",
       "      <th>1</th>\n",
       "      <td>3A2BF4D364E62D89</td>\n",
       "      <td>216FC619308F8788</td>\n",
       "      <td>2025-10-14</td>\n",
       "      <td>2025-10-14 21:11:04</td>\n",
       "      <td>2025-10-14</td>\n",
       "      <td>1</td>\n",
       "      <td>0</td>\n",
       "      <td>3</td>\n",
       "      <td>MENA</td>\n",
       "      <td>iPhone</td>\n",
       "      <td>A</td>\n",
       "    </tr>\n",
       "    <tr>\n",
       "      <th>2</th>\n",
       "      <td>79CDAE11E32B1597</td>\n",
       "      <td>EDFCE4AC1A504074</td>\n",
       "      <td>2025-10-14</td>\n",
       "      <td>2025-10-14 21:44:03</td>\n",
       "      <td>2025-10-14</td>\n",
       "      <td>1</td>\n",
       "      <td>0</td>\n",
       "      <td>3</td>\n",
       "      <td>CIS</td>\n",
       "      <td>iPhone</td>\n",
       "      <td>A</td>\n",
       "    </tr>\n",
       "    <tr>\n",
       "      <th>3</th>\n",
       "      <td>D6AF8D78297A931F</td>\n",
       "      <td>CF0AC0EEDE92C690</td>\n",
       "      <td>2025-10-14</td>\n",
       "      <td>2025-10-14 19:07:55</td>\n",
       "      <td>2025-10-14</td>\n",
       "      <td>1</td>\n",
       "      <td>0</td>\n",
       "      <td>4</td>\n",
       "      <td>CIS</td>\n",
       "      <td>PC</td>\n",
       "      <td>A</td>\n",
       "    </tr>\n",
       "    <tr>\n",
       "      <th>4</th>\n",
       "      <td>37E0CE723AE568E0</td>\n",
       "      <td>2E6ED45E8C86C4E9</td>\n",
       "      <td>2025-10-14</td>\n",
       "      <td>2025-10-14 15:39:44</td>\n",
       "      <td>2025-10-14</td>\n",
       "      <td>1</td>\n",
       "      <td>0</td>\n",
       "      <td>3</td>\n",
       "      <td>CIS</td>\n",
       "      <td>Mac</td>\n",
       "      <td>B</td>\n",
       "    </tr>\n",
       "  </tbody>\n",
       "</table>\n",
       "</div>"
      ],
      "text/plain": [
       "            user_id        session_id session_date     session_start_ts  \\\n",
       "0  3404844B53442747  B4901323BD537E45   2025-10-14  2025-10-14 19:28:49   \n",
       "1  3A2BF4D364E62D89  216FC619308F8788   2025-10-14  2025-10-14 21:11:04   \n",
       "2  79CDAE11E32B1597  EDFCE4AC1A504074   2025-10-14  2025-10-14 21:44:03   \n",
       "3  D6AF8D78297A931F  CF0AC0EEDE92C690   2025-10-14  2025-10-14 19:07:55   \n",
       "4  37E0CE723AE568E0  2E6ED45E8C86C4E9   2025-10-14  2025-10-14 15:39:44   \n",
       "\n",
       "  install_date  session_number  registration_flag  page_counter region  \\\n",
       "0   2025-10-14               1                  0             3    CIS   \n",
       "1   2025-10-14               1                  0             3   MENA   \n",
       "2   2025-10-14               1                  0             3    CIS   \n",
       "3   2025-10-14               1                  0             4    CIS   \n",
       "4   2025-10-14               1                  0             3    CIS   \n",
       "\n",
       "    device test_group  \n",
       "0  Android          B  \n",
       "1   iPhone          A  \n",
       "2   iPhone          A  \n",
       "3       PC          A  \n",
       "4      Mac          B  "
      ]
     },
     "metadata": {},
     "output_type": "display_data"
    },
    {
     "name": "stdout",
     "output_type": "stream",
     "text": [
      "<class 'pandas.core.frame.DataFrame'>\n",
      "RangeIndex: 3130 entries, 0 to 3129\n",
      "Data columns (total 11 columns):\n",
      " #   Column             Non-Null Count  Dtype \n",
      "---  ------             --------------  ----- \n",
      " 0   user_id            3130 non-null   object\n",
      " 1   session_id         3130 non-null   object\n",
      " 2   session_date       3130 non-null   object\n",
      " 3   session_start_ts   3130 non-null   object\n",
      " 4   install_date       3130 non-null   object\n",
      " 5   session_number     3130 non-null   int64 \n",
      " 6   registration_flag  3130 non-null   int64 \n",
      " 7   page_counter       3130 non-null   int64 \n",
      " 8   region             3130 non-null   object\n",
      " 9   device             3130 non-null   object\n",
      " 10  test_group         3130 non-null   object\n",
      "dtypes: int64(3), object(8)\n",
      "memory usage: 269.1+ KB\n"
     ]
    }
   ],
   "source": [
    "sessions_test = pd.read_csv('https://code.s3.yandex.net/datasets/sessions_project_test.csv')\n",
    "display(sessions_test_part.head())\n",
    "sessions_test_part.info()"
   ]
  },
  {
   "cell_type": "markdown",
   "metadata": {
    "id": "aeYhrMYy0eM2"
   },
   "source": [
    "#### 4.2. Проверка корректности результатов теста\n",
    "\n",
    "Прежде чем приступать к анализу ключевых продуктовых метрик, необходимо убедиться, что тест проведён корректно и вы будете сравнивать две сопоставимые группы.\n",
    "\n",
    "- Рассчитайте количество уникальных сессий для каждого дня и обеих тестовых групп, используя группировку.\n",
    "\n",
    "- Проверьте, что количество уникальных дневных сессий в двух выборках не различается или различия не статистически значимыми. Используйте статистический тест, который позволит сделать вывод о равенстве средних двух выборок.\n",
    "\n",
    "- В качестве ответа выведите на экран полученное значение p-value и интерпретируйте его."
   ]
  },
  {
   "cell_type": "code",
   "execution_count": 21,
   "metadata": {
    "id": "5NUlcltkTTSU"
   },
   "outputs": [
    {
     "name": "stdout",
     "output_type": "stream",
     "text": [
      "Среднее количество сессий в группе A: 2477.55\n",
      "Среднее количество сессий в группе B: 2522.70\n",
      "\n",
      "Результат статистического теста (t-тест):\n",
      "p-value = 0.9382\n",
      "\n",
      "Нулевая гипотеза не отвергается\n",
      "Статистически значимых различий в количестве сессий между группами A и B НЕТ\n",
      "Группы сопоставимы по количеству сессий\n"
     ]
    }
   ],
   "source": [
    "daily_sessions = sessions_test.groupby(['session_date', 'test_group'])['session_id'].nunique().reset_index()\n",
    "\n",
    "# Разделяем на две группы\n",
    "group_a = daily_sessions[daily_sessions['test_group'] == 'A']['session_id']\n",
    "group_b = daily_sessions[daily_sessions['test_group'] == 'B']['session_id']\n",
    "\n",
    "print(f\"Среднее количество сессий в группе A: {group_a.mean():.2f}\")\n",
    "print(f\"Среднее количество сессий в группе B: {group_b.mean():.2f}\")\n",
    "\n",
    "_, p_value = stats.ttest_ind(group_a, group_b)\n",
    "test_name = \"t-тест\"\n",
    "\n",
    "print(f\"\\nРезультат статистического теста ({test_name}):\")\n",
    "print(f\"p-value = {p_value:.4f}\")\n",
    "\n",
    "alpha = 0.05\n",
    "\n",
    "if p_value > alpha:\n",
    "    print(\"\\nНулевая гипотеза не отвергается\")\n",
    "    print(\"Статистически значимых различий в количестве сессий между группами A и B НЕТ\")\n",
    "    print(\"Группы сопоставимы по количеству сессий\")\n",
    "else:\n",
    "    print(\"\\nНулевая гипотеза отвергается\")\n",
    "    print(\"Обнаружены статистически значимые различия в количестве сессий между группами A и B\")\n",
    "    print(\"Группы НЕ сопоставимы по количеству сессий\")"
   ]
  },
  {
   "cell_type": "markdown",
   "metadata": {
    "id": "7kwRxzg70eM3"
   },
   "source": [
    "#### 4.3. Сравнение доли успешных сессий\n",
    "\n",
    "Когда вы убедились, что количество сессий в обеих выборках не различалось, можно переходить к анализу ключевой метрики — доли успешных сессий.\n",
    "\n",
    "Используйте созданный на первом шаге задания столбец `good_session` и рассчитайте долю успешных сессий для выборок A и B, а также разницу в этом показателе. Полученный вывод отобразите на экране."
   ]
  },
  {
   "cell_type": "code",
   "execution_count": 29,
   "metadata": {
    "id": "Uku-V1CpPRCz"
   },
   "outputs": [
    {
     "name": "stdout",
     "output_type": "stream",
     "text": [
      "СРАВНЕНИЕ ДОЛИ УСПЕШНЫХ СЕССИЙ:\n",
      "Группа A (контрольная): 0.3077 (30.77%)\n",
      "Группа B (тестовая):    0.3183 (31.83%)\n",
      "Абсолютная разница:     0.011\n"
     ]
    }
   ],
   "source": [
    "# Создаем столбец good_session (если еще не создан)\n",
    "sessions_test['good_session'] = (sessions_test['page_counter'] >= 4).astype(int)\n",
    "\n",
    "# Рассчитываем долю успешных сессий для каждой группы\n",
    "good_sessions_a = sessions_test[sessions_test['test_group'] == 'A']['good_session'].mean()\n",
    "good_sessions_b = sessions_test[sessions_test['test_group'] == 'B']['good_session'].mean()\n",
    "\n",
    "# Рассчитываем разницу\n",
    "difference = good_sessions_b - good_sessions_a\n",
    "relative_difference = (difference / good_sessions_a) * 100\n",
    "\n",
    "# Выводим результаты\n",
    "print(\"СРАВНЕНИЕ ДОЛИ УСПЕШНЫХ СЕССИЙ:\")\n",
    "print(f\"Группа A (контрольная): {good_sessions_a:.4f} ({good_sessions_a*100:.2f}%)\")\n",
    "print(f\"Группа B (тестовая):    {good_sessions_b:.4f} ({good_sessions_b*100:.2f}%)\")\n",
    "print(f\"Абсолютная разница:     {difference:.3f}\")"
   ]
  },
  {
   "cell_type": "markdown",
   "metadata": {
    "id": "9fMFuja10eM4"
   },
   "source": [
    "#### 4.4. Насколько статистически значимо изменение ключевой метрики\n",
    "\n",
    "На предыдущем шаге вы убедились, что количество успешных сессий в тестовой выборке примерно на 1.1% выше, чем в контрольной, но делать выводы только на основе этого значения будет некорректно. Для принятия решения всегда необходимо отвечать на вопрос: является ли это изменение статистически значимым.\n",
    "\n",
    "- Используя статистический тест, рассчитайте, является ли изменение в метрике доли успешных сессий статистически значимым.\n",
    "\n",
    "- Выведите на экран полученное значение p-value и свои выводы о статистической значимости. Напомним, что уровень значимости в эксперименте был выбран на уровне 0.05."
   ]
  },
  {
   "cell_type": "code",
   "execution_count": 30,
   "metadata": {
    "id": "gFvhRGwlPLS0"
   },
   "outputs": [
    {
     "name": "stdout",
     "output_type": "stream",
     "text": [
      "ПРОВЕРКА СТАТИСТИЧЕСКОЙ ЗНАЧИМОСТИ ИЗМЕНЕНИЯ\n",
      "Группа A: 15248/49551 успешных сессий (30.77%)\n",
      "Группа B: 16059/50454 успешных сессий (31.83%)\n",
      "Z-статистика: 3.6027\n",
      "p-value: 0.0002\n",
      "\n",
      "ВЫВОД:\n",
      "p-value (0.0002) < уровня значимости (0.05)\n",
      "Изменение доли успешных сессий статистически значимо, нулевая гипотеза отвергается в пользу альтернативной\n"
     ]
    }
   ],
   "source": [
    "# Подготовка данных для теста\n",
    "success_a = sessions_test[(sessions_test['test_group'] == 'A') & (sessions_test['good_session'] == 1)].shape[0]\n",
    "success_b = sessions_test[(sessions_test['test_group'] == 'B') & (sessions_test['good_session'] == 1)].shape[0]\n",
    "\n",
    "total_a = sessions_test[sessions_test['test_group'] == 'A'].shape[0]\n",
    "total_b = sessions_test[sessions_test['test_group'] == 'B'].shape[0]\n",
    "\n",
    "# Проводим Z-тест для пропорций\n",
    "# alternative='larger' - тестируем гипотезу, что доля в группе B больше чем в группе A\n",
    "z_stat, p_value = proportions_ztest(\n",
    "    count=[success_b, success_a],  # [успехи в группе B, успехи в группе A]\n",
    "    nobs=[total_b, total_a],       # [общее в группе B, общее в группе A]\n",
    "    alternative='larger'           # тестируем, что B > A\n",
    ")\n",
    "\n",
    "print(\"ПРОВЕРКА СТАТИСТИЧЕСКОЙ ЗНАЧИМОСТИ ИЗМЕНЕНИЯ\")\n",
    "print(f\"Группа A: {success_a}/{total_a} успешных сессий ({success_a/total_a*100:.2f}%)\")\n",
    "print(f\"Группа B: {success_b}/{total_b} успешных сессий ({success_b/total_b*100:.2f}%)\")\n",
    "print(f\"Z-статистика: {z_stat:.4f}\")\n",
    "print(f\"p-value: {p_value:.4f}\")\n",
    "\n",
    "# Интерпретация результатов\n",
    "alpha = 0.05\n",
    "print(\"\\nВЫВОД:\")\n",
    "if p_value < alpha:\n",
    "    print(f\"p-value ({p_value:.4f}) < уровня значимости ({alpha})\")\n",
    "    print(\"Изменение доли успешных сессий статистически значимо, нулевая гипотеза отвергается в пользу альтернативной\")\n",
    "else:\n",
    "    print(f\"p-value ({p_value:.4f}) ≥ уровня значимости ({alpha})\")\n",
    "    print(\"Изменение доли успешных сессий НЕ статистически значимо, нулевая гипотеза не отвергается\")"
   ]
  },
  {
   "cell_type": "markdown",
   "metadata": {
    "id": "GnJrkY9Q63zS"
   },
   "source": [
    "#### 4.5. Вывод по результатам A/B-эксперимента\n",
    "\n",
    "На основе проведённого анализа результатов теста сформулируйте и запишите свои выводы для команды разработки приложения. В выводе обязательно укажите:\n",
    "\n",
    "- Характеристики проведённого эксперимента, количество задействованных пользователей и длительность эксперимента.\n",
    "\n",
    "- Повлияло ли внедрение нового алгоритма рекомендаций на рост ключевой метрики и как.\n",
    "\n",
    "- Каким получилось значение p-value для оценки статистической значимости выявленного эффекта.\n",
    "\n",
    "- Стоит ли внедрять нововведение в приложение."
   ]
  },
  {
   "cell_type": "markdown",
   "metadata": {
    "id": "rri8KRIgPMrW"
   },
   "source": [
    "Количество задействованных пользователей - примерно 1500 на каждую группу. Длительность теста составила 9 дней. Внедрение нового алгоритма повлияло на рост ключевой метрики. Доля ключевой метрики выросла. Значение p-value для оценки статистической значимости выявленного эффекта - 0.0002. По результатам анализа, внедрять нововведение в приложение стоит, так как проведение A/B-теста показало положительную динамику. "
   ]
  }
 ],
 "metadata": {
  "colab": {
   "provenance": []
  },
  "kernelspec": {
   "display_name": "Python 3 (ipykernel)",
   "language": "python",
   "name": "python3"
  },
  "language_info": {
   "codemirror_mode": {
    "name": "ipython",
    "version": 3
   },
   "file_extension": ".py",
   "mimetype": "text/x-python",
   "name": "python",
   "nbconvert_exporter": "python",
   "pygments_lexer": "ipython3",
   "version": "3.9.7"
  },
  "toc": {
   "base_numbering": 1,
   "nav_menu": {},
   "number_sections": true,
   "sideBar": true,
   "skip_h1_title": true,
   "title_cell": "Table of Contents",
   "title_sidebar": "Contents",
   "toc_cell": false,
   "toc_position": {},
   "toc_section_display": true,
   "toc_window_display": false
  }
 },
 "nbformat": 4,
 "nbformat_minor": 1
}
